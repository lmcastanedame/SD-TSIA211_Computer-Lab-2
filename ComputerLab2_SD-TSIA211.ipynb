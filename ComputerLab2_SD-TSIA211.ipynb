{
 "cells": [
  {
   "cell_type": "code",
   "execution_count": 1,
   "metadata": {},
   "outputs": [
    {
     "name": "stdout",
     "output_type": "stream",
     "text": [
      "WARNING:tensorflow:From C:\\Users\\lmcastanedame\\AppData\\Roaming\\Python\\Python311\\site-packages\\keras\\src\\losses.py:2976: The name tf.losses.sparse_softmax_cross_entropy is deprecated. Please use tf.compat.v1.losses.sparse_softmax_cross_entropy instead.\n",
      "\n"
     ]
    }
   ],
   "source": [
    "import numpy as np\n",
    "import tensorflow as tf\n",
    "from tensorflow import keras\n",
    "from tensorflow.keras import layers\n",
    "import matplotlib.pyplot as plt"
   ]
  },
  {
   "cell_type": "markdown",
   "metadata": {},
   "source": [
    "# 2 Dataset"
   ]
  },
  {
   "cell_type": "markdown",
   "metadata": {},
   "source": [
    "We are going to use the MNIST dataset, which consists of images of written digits together\n",
    "with their label. As it is a very common dataset, it can be downloaded directly with a\n",
    "function of the Keras library."
   ]
  },
  {
   "cell_type": "code",
   "execution_count": 2,
   "metadata": {},
   "outputs": [
    {
     "name": "stdout",
     "output_type": "stream",
     "text": [
      "5\n"
     ]
    },
    {
     "data": {
      "text/plain": [
       "<matplotlib.image.AxesImage at 0x1be7c1bfa10>"
      ]
     },
     "execution_count": 2,
     "metadata": {},
     "output_type": "execute_result"
    },
    {
     "data": {
      "image/png": "[encoded data removed]",
      "text/plain": [
       "<Figure size 640x480 with 1 Axes>"
      ]
     },
     "metadata": {},
     "output_type": "display_data"
    }
   ],
   "source": [
    "train_data, test_data = tf.keras.datasets.mnist.load_data(path=\"mnist.npz\")\n",
    "x_train = train_data[0].reshape(-1,784).astype(float) / 255\n",
    "y_train = train_data[1]\n",
    "print(y_train[0])\n",
    "plt.imshow(train_data[0][0], cmap='gray')"
   ]
  },
  {
   "cell_type": "code",
   "execution_count": 3,
   "metadata": {},
   "outputs": [
    {
     "name": "stdout",
     "output_type": "stream",
     "text": [
      "WARNING:tensorflow:From C:\\Users\\lmcastanedame\\AppData\\Roaming\\Python\\Python311\\site-packages\\keras\\src\\backend.py:1398: The name tf.executing_eagerly_outside_functions is deprecated. Please use tf.compat.v1.executing_eagerly_outside_functions instead.\n",
      "\n",
      "Model: \"mnist_model\"\n",
      "_________________________________________________________________\n",
      " Layer (type)                Output Shape              Param #   \n",
      "=================================================================\n",
      " digits (InputLayer)         [(None, 784)]             0         \n",
      "                                                                 \n",
      " dense_1 (Dense)             (None, 32)                25120     \n",
      "                                                                 \n",
      " dense_2 (Dense)             (None, 32)                1056      \n",
      "                                                                 \n",
      " predictions (Dense)         (None, 10)                330       \n",
      "                                                                 \n",
      "=================================================================\n",
      "Total params: 26506 (103.54 KB)\n",
      "Trainable params: 26506 (103.54 KB)\n",
      "Non-trainable params: 0 (0.00 Byte)\n",
      "_________________________________________________________________\n"
     ]
    }
   ],
   "source": [
    "# source: https://keras.io/guides/training_with_built_in_methods/\n",
    "\n",
    "inputs = keras.Input(shape=(784,), name=\"digits\")\n",
    "x = layers.Dense(32, activation=\"relu\", name=\"dense_1\")(inputs)\n",
    "x = layers.Dense(32, activation=\"relu\", name=\"dense_2\")(x)\n",
    "outputs = layers.Dense(10, activation=None, name=\"predictions\")(x)\n",
    "model = keras.Model(inputs=inputs, outputs=outputs, name=\"mnist_model\")\n",
    "loss = keras.losses.SparseCategoricalCrossentropy(from_logits=True)\n",
    "#def loss(true, pred):\n",
    "#    val = 0.\n",
    "#    for i in range(len(true)):\n",
    "#        val -= np.log(pred[i, true[i]])\n",
    "#    return val / len(true)\n",
    "model.summary()"
   ]
  },
  {
   "cell_type": "code",
   "execution_count": 4,
   "metadata": {},
   "outputs": [
    {
     "data": {
      "text/plain": [
       "array([5, 5, 5, 8, 3, 5, 5, 3, 0, 3, 5, 8, 5, 5, 6, 6, 5, 5, 0, 5, 3, 5,\n",
       "       7, 8, 5, 5, 3, 5, 3, 1, 5, 5, 7, 5, 7, 3, 5, 5, 5, 7, 5, 5, 5, 5,\n",
       "       4, 5, 3, 3, 5, 5, 5, 5, 5, 0, 5, 3, 5, 5, 3, 8, 0, 3, 7, 5, 3, 8,\n",
       "       7, 5, 5, 5, 5, 0, 5, 5, 5, 5, 5, 3, 3, 5, 5, 5, 5, 5, 5, 3, 5, 5,\n",
       "       8, 3, 5, 5, 5, 5, 1, 5, 5, 1, 5, 3], dtype=int64)"
      ]
     },
     "execution_count": 4,
     "metadata": {},
     "output_type": "execute_result"
    }
   ],
   "source": [
    "# untrained model\n",
    "logits = model(x_train)\n",
    "np.argmax(logits, 1)[0:100]"
   ]
  },
  {
   "cell_type": "code",
   "execution_count": 5,
   "metadata": {},
   "outputs": [
    {
     "data": {
      "text/plain": [
       "array([5, 0, 4, 1, 9, 2, 1, 3, 1, 4, 3, 5, 3, 6, 1, 7, 2, 8, 6, 9, 4, 0,\n",
       "       9, 1, 1, 2, 4, 3, 2, 7, 3, 8, 6, 9, 0, 5, 6, 0, 7, 6, 1, 8, 7, 9,\n",
       "       3, 9, 8, 5, 9, 3, 3, 0, 7, 4, 9, 8, 0, 9, 4, 1, 4, 4, 6, 0, 4, 5,\n",
       "       6, 1, 0, 0, 1, 7, 1, 6, 3, 0, 2, 1, 1, 7, 9, 0, 2, 6, 7, 8, 3, 9,\n",
       "       0, 4, 6, 7, 4, 6, 8, 0, 7, 8, 3, 1], dtype=uint8)"
      ]
     },
     "execution_count": 5,
     "metadata": {},
     "output_type": "execute_result"
    }
   ],
   "source": [
    "# what we would like to get\n",
    "y_train[0:100]"
   ]
  },
  {
   "cell_type": "markdown",
   "metadata": {},
   "source": [
    "# 4 Model"
   ]
  },
  {
   "cell_type": "markdown",
   "metadata": {},
   "source": [
    "The file ``TP_MNIST_basic_functions.ipynb`` or ``TP_MNIST_basic_functions.py`` contains a\n",
    "neural network model written with Keras for the question of hand-written digit recognition."
   ]
  },
  {
   "cell_type": "markdown",
   "metadata": {},
   "source": [
    "The loss function is the categorical cross-entropy function whose formula is:\n",
    "\n",
    "$$\n",
    "\\ell(\\mathbf{y}^\\text{pred}, \\mathbf{y}^\\text{true}) = - \\sum_{i=1}^{n} \\sum_{d=0}^{9} y^\\text{true}_{i,d} \\log(y^\\text{pred}_{i,d})\n",
    "$$\n",
    "\n",
    "where $ y^\\text{true}_{i,d} = 1 $ if image $ i $ represents digit $ d $ and $ y^\\text{true}_{i,d} = 0 $ otherwise.\n"
   ]
  },
  {
   "cell_type": "markdown",
   "metadata": {},
   "source": [
    "## Question 4.1\n",
    "How many optimization variables are we going to train using this model?"
   ]
  },
  {
   "cell_type": "markdown",
   "metadata": {},
   "source": [
    "Given the information from the model summary, we can determine the number of optimization variables. In a neural network, the optimization variables are the parameters of the model that the training process will adjust to minimize the loss function. These parameters typically include the weights and biases of each layer.\n",
    "\n",
    "From the model summary, the parameters for each layer are listed under \"Param #\":\n",
    "\n",
    "- `dense_1 (Dense)` layer has 25,120 parameters.\n",
    "- `dense_2 (Dense)` layer has 1,056 parameters.\n",
    "- `predictions (Dense)` layer has 330 parameters.\n",
    "\n",
    "Adding these up, we get the total number of parameters that will be optimized during training:\n",
    "\n",
    "Total parameters = 25,120 + 1,056 + 330 = 26,506"
   ]
  },
  {
   "cell_type": "markdown",
   "metadata": {},
   "source": [
    "# 5 Stochastic gradient descent"
   ]
  },
  {
   "cell_type": "markdown",
   "metadata": {},
   "source": [
    "## Question 5.1\n",
    "Reusing the code provided in the basic functions file, implement stochastic gradient descent\n",
    "for the resolution of the neural network model."
   ]
  },
  {
   "cell_type": "code",
   "execution_count": null,
   "metadata": {},
   "outputs": [],
   "source": [
    "# Convert labels to one-hot encoding\n",
    "y_train_one_hot = tf.keras.utils.to_categorical(y_train, num_classes=10)\n",
    "\n",
    "# Define the number of epochs and the batch size for SGD\n",
    "epochs = 10\n",
    "batch_size = 8\n",
    "learning_rate = 0.01\n",
    "\n",
    "# Define the loss function\n",
    "loss = tf.keras.losses.CategoricalCrossentropy()\n",
    "\n",
    "# Function to update weights with the gradient\n",
    "def update_weights(model, gradients, learning_rate):\n",
    "    new_weights = [w - learning_rate * grad for w, grad in zip(model.trainable_weights, gradients)]\n",
    "    model.set_weights(new_weights)\n",
    "\n",
    "# Training loop\n",
    "for epoch in range(epochs):\n",
    "    print(f'Epoch {epoch+1}/{epochs}')\n",
    "    # Shuffle the dataset\n",
    "    indices = np.arange(len(x_train))\n",
    "    np.random.shuffle(indices)\n",
    "    x_train_shuffled = x_train[indices]\n",
    "    y_train_shuffled = y_train_one_hot[indices]\n",
    "    \n",
    "    # Iterate over the batches of the dataset\n",
    "    for start_idx in range(0, len(x_train), batch_size):\n",
    "        end_idx = start_idx + batch_size\n",
    "        x_train_batch = x_train_shuffled[start_idx:end_idx]\n",
    "        y_train_batch = y_train_shuffled[start_idx:end_idx]\n",
    "        \n",
    "        # Compute the gradients\n",
    "        with tf.GradientTape() as tape:\n",
    "            logits = model(x_train_batch)  # Logits for this minibatch\n",
    "            loss_value = loss(y_train_batch, logits)\n",
    "        \n",
    "        gradients = tape.gradient(loss_value, model.trainable_weights)\n",
    "        \n",
    "        # Update weights\n",
    "        update_weights(model, gradients, learning_rate)\n",
    "    \n",
    "    # Evaluate the model's performance at the end of each epoch\n",
    "    logits = model(x_train)\n",
    "    loss_value = loss(y_train_one_hot, logits)\n",
    "    print(f'Loss: {loss_value.numpy()}')\n"
   ]
  },
  {
   "cell_type": "code",
   "execution_count": 11,
   "metadata": {},
   "outputs": [
    {
     "data": {
      "image/png": "[encoded data removed]",
      "text/plain": [
       "<Figure size 640x480 with 1 Axes>"
      ]
     },
     "metadata": {},
     "output_type": "display_data"
    }
   ],
   "source": [
    "import numpy as np\n",
    "import tensorflow as tf\n",
    "import matplotlib.pyplot as plt\n",
    "\n",
    "# Convert labels to one-hot encoding\n",
    "y_train_one_hot = tf.keras.utils.to_categorical(y_train, num_classes=10)\n",
    "\n",
    "# Define the batch size and learning rate\n",
    "batch_size = 8\n",
    "learning_rate = 0.001  # Smaller learning rate\n",
    "\n",
    "# Define the loss function\n",
    "loss = tf.keras.losses.CategoricalCrossentropy()\n",
    "\n",
    "# Function to update weights with the gradient\n",
    "def update_weights(model, gradients, learning_rate):\n",
    "    new_weights = [w - learning_rate * grad for w, grad in zip(model.trainable_weights, gradients)]\n",
    "    model.set_weights(new_weights)\n",
    "\n",
    "# Initialize lists to keep track of loss\n",
    "loss_values = []\n",
    "smoothed_loss_values = []\n",
    "smoothing_factor = 0.9  # Determines the degree of smoothing\n",
    "smoothed_loss = 0\n",
    "\n",
    "# Shuffle the dataset\n",
    "indices = np.arange(len(x_train))\n",
    "np.random.shuffle(indices)\n",
    "x_train_shuffled = x_train[indices]\n",
    "y_train_shuffled = y_train_one_hot[indices]\n",
    "\n",
    "# Training loop for one epoch\n",
    "for start_idx in range(0, len(x_train), batch_size):\n",
    "    end_idx = start_idx + batch_size\n",
    "    x_train_batch = x_train_shuffled[start_idx:end_idx]\n",
    "    y_train_batch = y_train_shuffled[start_idx:end_idx]\n",
    "    \n",
    "    # Compute the gradients\n",
    "    with tf.GradientTape() as tape:\n",
    "        logits = model(x_train_batch)  # Logits for this minibatch\n",
    "        loss_value = loss(y_train_batch, logits)\n",
    "    \n",
    "    gradients = tape.gradient(loss_value, model.trainable_weights)\n",
    "    \n",
    "    # Update weights\n",
    "    update_weights(model, gradients, learning_rate)\n",
    "    \n",
    "    # Record the loss value for plotting\n",
    "    current_loss = loss_value.numpy()\n",
    "    loss_values.append(current_loss)\n",
    "    \n",
    "    # Update the smoothed loss\n",
    "    smoothed_loss = (smoothing_factor * smoothed_loss) + ((1 - smoothing_factor) * current_loss)\n",
    "    smoothed_loss_values.append(smoothed_loss)\n",
    "\n",
    "# Plot the smoothed loss values\n",
    "plt.plot(smoothed_loss_values, '-b', label='Smoothed Loss')\n",
    "plt.xlabel('Iterations')\n",
    "plt.ylabel('Smoothed Objective Value')\n",
    "plt.title('Smoothed Objective Value vs. Iterations')\n",
    "plt.legend()\n",
    "plt.show()\n"
   ]
  }
 ],
 "metadata": {
  "kernelspec": {
   "display_name": "base",
   "language": "python",
   "name": "python3"
  },
  "language_info": {
   "codemirror_mode": {
    "name": "ipython",
    "version": 3
   },
   "file_extension": ".py",
   "mimetype": "text/x-python",
   "name": "python",
   "nbconvert_exporter": "python",
   "pygments_lexer": "ipython3",
   "version": "3.11.4"
  }
 },
 "nbformat": 4,
 "nbformat_minor": 2
}
